{
 "cells": [
  {
   "cell_type": "code",
   "execution_count": 12,
   "metadata": {},
   "outputs": [
    {
     "name": "stdout",
     "output_type": "stream",
     "text": [
      "Requirement already satisfied: numpy in c:\\users\\user\\appdata\\local\\programs\\python\\python312\\lib\\site-packages (from -r requirements.txt (line 1)) (2.1.3)\n",
      "Requirement already satisfied: pandas in c:\\users\\user\\appdata\\local\\programs\\python\\python312\\lib\\site-packages (from -r requirements.txt (line 2)) (2.2.3)\n",
      "Requirement already satisfied: openpyxl in c:\\users\\user\\appdata\\local\\programs\\python\\python312\\lib\\site-packages (from -r requirements.txt (line 3)) (3.1.5)\n",
      "Requirement already satisfied: matplotlib in c:\\users\\user\\appdata\\local\\programs\\python\\python312\\lib\\site-packages (from -r requirements.txt (line 4)) (3.9.3)\n",
      "Collecting seaborn (from -r requirements.txt (line 5))\n",
      "  Downloading seaborn-0.13.2-py3-none-any.whl.metadata (5.4 kB)\n",
      "Collecting plotly (from -r requirements.txt (line 6))\n",
      "  Downloading plotly-5.24.1-py3-none-any.whl.metadata (7.3 kB)\n",
      "Requirement already satisfied: scikit-learn in c:\\users\\user\\appdata\\local\\programs\\python\\python312\\lib\\site-packages (from -r requirements.txt (line 7)) (1.5.2)\n",
      "Requirement already satisfied: python-dateutil>=2.8.2 in c:\\users\\user\\appdata\\roaming\\python\\python312\\site-packages (from pandas->-r requirements.txt (line 2)) (2.9.0.post0)\n",
      "Requirement already satisfied: pytz>=2020.1 in c:\\users\\user\\appdata\\local\\programs\\python\\python312\\lib\\site-packages (from pandas->-r requirements.txt (line 2)) (2024.2)\n",
      "Requirement already satisfied: tzdata>=2022.7 in c:\\users\\user\\appdata\\local\\programs\\python\\python312\\lib\\site-packages (from pandas->-r requirements.txt (line 2)) (2024.2)\n",
      "Requirement already satisfied: et-xmlfile in c:\\users\\user\\appdata\\local\\programs\\python\\python312\\lib\\site-packages (from openpyxl->-r requirements.txt (line 3)) (2.0.0)\n",
      "Requirement already satisfied: contourpy>=1.0.1 in c:\\users\\user\\appdata\\local\\programs\\python\\python312\\lib\\site-packages (from matplotlib->-r requirements.txt (line 4)) (1.3.1)\n",
      "Requirement already satisfied: cycler>=0.10 in c:\\users\\user\\appdata\\local\\programs\\python\\python312\\lib\\site-packages (from matplotlib->-r requirements.txt (line 4)) (0.12.1)\n",
      "Requirement already satisfied: fonttools>=4.22.0 in c:\\users\\user\\appdata\\local\\programs\\python\\python312\\lib\\site-packages (from matplotlib->-r requirements.txt (line 4)) (4.55.0)\n",
      "Requirement already satisfied: kiwisolver>=1.3.1 in c:\\users\\user\\appdata\\local\\programs\\python\\python312\\lib\\site-packages (from matplotlib->-r requirements.txt (line 4)) (1.4.7)\n",
      "Requirement already satisfied: packaging>=20.0 in c:\\users\\user\\appdata\\roaming\\python\\python312\\site-packages (from matplotlib->-r requirements.txt (line 4)) (24.2)\n",
      "Requirement already satisfied: pillow>=8 in c:\\users\\user\\appdata\\local\\programs\\python\\python312\\lib\\site-packages (from matplotlib->-r requirements.txt (line 4)) (11.0.0)\n",
      "Requirement already satisfied: pyparsing>=2.3.1 in c:\\users\\user\\appdata\\local\\programs\\python\\python312\\lib\\site-packages (from matplotlib->-r requirements.txt (line 4)) (3.2.0)\n",
      "Collecting tenacity>=6.2.0 (from plotly->-r requirements.txt (line 6))\n",
      "  Downloading tenacity-9.0.0-py3-none-any.whl.metadata (1.2 kB)\n",
      "Requirement already satisfied: scipy>=1.6.0 in c:\\users\\user\\appdata\\local\\programs\\python\\python312\\lib\\site-packages (from scikit-learn->-r requirements.txt (line 7)) (1.14.1)\n",
      "Requirement already satisfied: joblib>=1.2.0 in c:\\users\\user\\appdata\\local\\programs\\python\\python312\\lib\\site-packages (from scikit-learn->-r requirements.txt (line 7)) (1.4.2)\n",
      "Requirement already satisfied: threadpoolctl>=3.1.0 in c:\\users\\user\\appdata\\local\\programs\\python\\python312\\lib\\site-packages (from scikit-learn->-r requirements.txt (line 7)) (3.5.0)\n",
      "Requirement already satisfied: six>=1.5 in c:\\users\\user\\appdata\\roaming\\python\\python312\\site-packages (from python-dateutil>=2.8.2->pandas->-r requirements.txt (line 2)) (1.16.0)\n",
      "Downloading seaborn-0.13.2-py3-none-any.whl (294 kB)\n",
      "Downloading plotly-5.24.1-py3-none-any.whl (19.1 MB)\n",
      "   ---------------------------------------- 0.0/19.1 MB ? eta -:--:--\n",
      "   ---------------------------------------- 0.0/19.1 MB ? eta -:--:--\n",
      "   ---------------------------------------- 0.0/19.1 MB ? eta -:--:--\n",
      "   ---------------------------------------- 0.0/19.1 MB ? eta -:--:--\n",
      "    --------------------------------------- 0.3/19.1 MB ? eta -:--:--\n",
      "    --------------------------------------- 0.3/19.1 MB ? eta -:--:--\n",
      "   - -------------------------------------- 0.5/19.1 MB 509.0 kB/s eta 0:00:37\n",
      "   - -------------------------------------- 0.5/19.1 MB 509.0 kB/s eta 0:00:37\n",
      "   - -------------------------------------- 0.8/19.1 MB 645.7 kB/s eta 0:00:29\n",
      "   -- ------------------------------------- 1.0/19.1 MB 653.7 kB/s eta 0:00:28\n",
      "   -- ------------------------------------- 1.3/19.1 MB 754.4 kB/s eta 0:00:24\n",
      "   --- ------------------------------------ 1.6/19.1 MB 822.8 kB/s eta 0:00:22\n",
      "   ---- ----------------------------------- 2.1/19.1 MB 1.0 MB/s eta 0:00:17\n",
      "   ---- ----------------------------------- 2.4/19.1 MB 1.0 MB/s eta 0:00:17\n",
      "   ------ --------------------------------- 2.9/19.1 MB 1.2 MB/s eta 0:00:14\n",
      "   ------ --------------------------------- 3.1/19.1 MB 1.2 MB/s eta 0:00:14\n",
      "   ------- -------------------------------- 3.7/19.1 MB 1.3 MB/s eta 0:00:12\n",
      "   ------- -------------------------------- 3.7/19.1 MB 1.3 MB/s eta 0:00:12\n",
      "   -------- ------------------------------- 3.9/19.1 MB 1.2 MB/s eta 0:00:13\n",
      "   -------- ------------------------------- 4.2/19.1 MB 1.2 MB/s eta 0:00:12\n",
      "   --------- ------------------------------ 4.5/19.1 MB 1.2 MB/s eta 0:00:13\n",
      "   --------- ------------------------------ 4.5/19.1 MB 1.2 MB/s eta 0:00:13\n",
      "   --------- ------------------------------ 4.7/19.1 MB 1.1 MB/s eta 0:00:13\n",
      "   --------- ------------------------------ 4.7/19.1 MB 1.1 MB/s eta 0:00:13\n",
      "   ---------- ----------------------------- 5.0/19.1 MB 1.1 MB/s eta 0:00:13\n",
      "   ----------- ---------------------------- 5.2/19.1 MB 1.1 MB/s eta 0:00:13\n",
      "   ----------- ---------------------------- 5.5/19.1 MB 1.1 MB/s eta 0:00:13\n",
      "   ----------- ---------------------------- 5.5/19.1 MB 1.1 MB/s eta 0:00:13\n",
      "   ------------ --------------------------- 5.8/19.1 MB 1.1 MB/s eta 0:00:13\n",
      "   ------------ --------------------------- 6.0/19.1 MB 1.1 MB/s eta 0:00:13\n",
      "   ------------- -------------------------- 6.3/19.1 MB 1.1 MB/s eta 0:00:12\n",
      "   ------------- -------------------------- 6.6/19.1 MB 1.1 MB/s eta 0:00:12\n",
      "   -------------- ------------------------- 6.8/19.1 MB 1.1 MB/s eta 0:00:12\n",
      "   -------------- ------------------------- 7.1/19.1 MB 1.1 MB/s eta 0:00:12\n",
      "   --------------- ------------------------ 7.3/19.1 MB 1.1 MB/s eta 0:00:11\n",
      "   --------------- ------------------------ 7.6/19.1 MB 1.1 MB/s eta 0:00:11\n",
      "   ---------------- ----------------------- 7.9/19.1 MB 1.1 MB/s eta 0:00:11\n",
      "   ---------------- ----------------------- 7.9/19.1 MB 1.1 MB/s eta 0:00:11\n",
      "   ----------------- ---------------------- 8.4/19.1 MB 1.1 MB/s eta 0:00:10\n",
      "   ------------------ --------------------- 8.7/19.1 MB 1.1 MB/s eta 0:00:10\n",
      "   ------------------ --------------------- 8.9/19.1 MB 1.1 MB/s eta 0:00:10\n",
      "   ------------------ --------------------- 8.9/19.1 MB 1.1 MB/s eta 0:00:10\n",
      "   ------------------ --------------------- 8.9/19.1 MB 1.1 MB/s eta 0:00:10\n",
      "   ------------------- -------------------- 9.2/19.1 MB 1.1 MB/s eta 0:00:10\n",
      "   ------------------- -------------------- 9.2/19.1 MB 1.1 MB/s eta 0:00:10\n",
      "   ------------------- -------------------- 9.4/19.1 MB 1.1 MB/s eta 0:00:10\n",
      "   -------------------- ------------------- 9.7/19.1 MB 1.1 MB/s eta 0:00:09\n",
      "   -------------------- ------------------- 10.0/19.1 MB 1.1 MB/s eta 0:00:09\n",
      "   --------------------- ------------------ 10.2/19.1 MB 1.1 MB/s eta 0:00:09\n",
      "   ---------------------- ----------------- 10.7/19.1 MB 1.1 MB/s eta 0:00:08\n",
      "   ----------------------- ---------------- 11.3/19.1 MB 1.1 MB/s eta 0:00:07\n",
      "   ------------------------ --------------- 11.5/19.1 MB 1.1 MB/s eta 0:00:07\n",
      "   ------------------------- -------------- 12.1/19.1 MB 1.1 MB/s eta 0:00:07\n",
      "   ------------------------- -------------- 12.3/19.1 MB 1.2 MB/s eta 0:00:06\n",
      "   -------------------------- ------------- 12.6/19.1 MB 1.2 MB/s eta 0:00:06\n",
      "   --------------------------- ------------ 13.1/19.1 MB 1.2 MB/s eta 0:00:06\n",
      "   ---------------------------- ----------- 13.6/19.1 MB 1.2 MB/s eta 0:00:05\n",
      "   ----------------------------- ---------- 14.2/19.1 MB 1.2 MB/s eta 0:00:05\n",
      "   ------------------------------ --------- 14.4/19.1 MB 1.2 MB/s eta 0:00:04\n",
      "   ------------------------------- -------- 14.9/19.1 MB 1.3 MB/s eta 0:00:04\n",
      "   -------------------------------- ------- 15.5/19.1 MB 1.3 MB/s eta 0:00:03\n",
      "   --------------------------------- ------ 16.0/19.1 MB 1.3 MB/s eta 0:00:03\n",
      "   ---------------------------------- ----- 16.5/19.1 MB 1.3 MB/s eta 0:00:02\n",
      "   ----------------------------------- ---- 17.0/19.1 MB 1.3 MB/s eta 0:00:02\n",
      "   ------------------------------------ --- 17.6/19.1 MB 1.3 MB/s eta 0:00:02\n",
      "   ------------------------------------- -- 18.1/19.1 MB 1.4 MB/s eta 0:00:01\n",
      "   ---------------------------------------  18.6/19.1 MB 1.4 MB/s eta 0:00:01\n",
      "   ---------------------------------------- 19.1/19.1 MB 1.4 MB/s eta 0:00:00\n",
      "Downloading tenacity-9.0.0-py3-none-any.whl (28 kB)\n",
      "Installing collected packages: tenacity, plotly, seaborn\n",
      "Successfully installed plotly-5.24.1 seaborn-0.13.2 tenacity-9.0.0\n",
      "Note: you may need to restart the kernel to use updated packages.\n"
     ]
    },
    {
     "name": "stderr",
     "output_type": "stream",
     "text": [
      "\n",
      "[notice] A new release of pip is available: 24.2 -> 24.3.1\n",
      "[notice] To update, run: python.exe -m pip install --upgrade pip\n"
     ]
    }
   ],
   "source": [
    "# Install the required libraries\n",
    "pip install -r requirements.txt"
   ]
  },
  {
   "cell_type": "code",
   "execution_count": 13,
   "metadata": {},
   "outputs": [],
   "source": [
    "# Import libraries\n",
    "import pandas as pd\n",
    "import numpy as np\n",
    "\n",
    "import matplotlib.pyplot as plt\n",
    "import seaborn as sns\n",
    "\n",
    "from sklearn.pipeline import make_pipeline\n",
    "from sklearn.preprocessing import StandardScaler, LabelEncoder\n",
    "from sklearn.impute import SimpleImputer\n",
    "from sklearn.linear_model import LogisticRegression\n",
    "from sklearn.model_selection import train_test_split\n",
    "from sklearn.metrics import (ConfusionMatrixDisplay, accuracy_score, confusion_matrix, \n",
    "                             classification_report, precision_score, recall_score)"
   ]
  },
  {
   "cell_type": "markdown",
   "metadata": {},
   "source": [
    "### 1. Data Inspection"
   ]
  },
  {
   "cell_type": "code",
   "execution_count": 2,
   "metadata": {},
   "outputs": [
    {
     "data": {
      "text/html": [
       "<div>\n",
       "<style scoped>\n",
       "    .dataframe tbody tr th:only-of-type {\n",
       "        vertical-align: middle;\n",
       "    }\n",
       "\n",
       "    .dataframe tbody tr th {\n",
       "        vertical-align: top;\n",
       "    }\n",
       "\n",
       "    .dataframe thead th {\n",
       "        text-align: right;\n",
       "    }\n",
       "</style>\n",
       "<table border=\"1\" class=\"dataframe\">\n",
       "  <thead>\n",
       "    <tr style=\"text-align: right;\">\n",
       "      <th></th>\n",
       "      <th>user_id</th>\n",
       "      <th>feature_used</th>\n",
       "      <th>session_duration</th>\n",
       "      <th>engagement_score</th>\n",
       "      <th>accessibility_settings</th>\n",
       "      <th>age_group</th>\n",
       "      <th>gender</th>\n",
       "      <th>additional_attributes</th>\n",
       "    </tr>\n",
       "  </thead>\n",
       "  <tbody>\n",
       "    <tr>\n",
       "      <th>0</th>\n",
       "      <td>user_4737</td>\n",
       "      <td>Multilingual</td>\n",
       "      <td>60.77</td>\n",
       "      <td>4</td>\n",
       "      <td>4</td>\n",
       "      <td>Teenager</td>\n",
       "      <td>NaN</td>\n",
       "      <td>LGBTQ+</td>\n",
       "    </tr>\n",
       "    <tr>\n",
       "      <th>1</th>\n",
       "      <td>user_1492</td>\n",
       "      <td>Text-to-Speech</td>\n",
       "      <td>20.20</td>\n",
       "      <td>5</td>\n",
       "      <td>4</td>\n",
       "      <td>Professional</td>\n",
       "      <td>Non-Binary</td>\n",
       "      <td>NaN</td>\n",
       "    </tr>\n",
       "    <tr>\n",
       "      <th>2</th>\n",
       "      <td>user_5936</td>\n",
       "      <td>Colorblind Mode</td>\n",
       "      <td>93.78</td>\n",
       "      <td>2</td>\n",
       "      <td>2</td>\n",
       "      <td>Adult</td>\n",
       "      <td>Female</td>\n",
       "      <td>NaN</td>\n",
       "    </tr>\n",
       "    <tr>\n",
       "      <th>3</th>\n",
       "      <td>user_5519</td>\n",
       "      <td>Colorblind Mode</td>\n",
       "      <td>26.36</td>\n",
       "      <td>3</td>\n",
       "      <td>1</td>\n",
       "      <td>Adult</td>\n",
       "      <td>NaN</td>\n",
       "      <td>LGBTQ+</td>\n",
       "    </tr>\n",
       "    <tr>\n",
       "      <th>4</th>\n",
       "      <td>user_1853</td>\n",
       "      <td>High Contrast Mode</td>\n",
       "      <td>91.67</td>\n",
       "      <td>5</td>\n",
       "      <td>1</td>\n",
       "      <td>Young Adult</td>\n",
       "      <td>Male</td>\n",
       "      <td>NaN</td>\n",
       "    </tr>\n",
       "  </tbody>\n",
       "</table>\n",
       "</div>"
      ],
      "text/plain": [
       "     user_id        feature_used  session_duration  engagement_score  \\\n",
       "0  user_4737        Multilingual             60.77                 4   \n",
       "1  user_1492      Text-to-Speech             20.20                 5   \n",
       "2  user_5936     Colorblind Mode             93.78                 2   \n",
       "3  user_5519     Colorblind Mode             26.36                 3   \n",
       "4  user_1853  High Contrast Mode             91.67                 5   \n",
       "\n",
       "   accessibility_settings     age_group      gender additional_attributes  \n",
       "0                       4      Teenager         NaN                LGBTQ+  \n",
       "1                       4  Professional  Non-Binary                   NaN  \n",
       "2                       2         Adult      Female                   NaN  \n",
       "3                       1         Adult         NaN                LGBTQ+  \n",
       "4                       1   Young Adult        Male                   NaN  "
      ]
     },
     "execution_count": 2,
     "metadata": {},
     "output_type": "execute_result"
    }
   ],
   "source": [
    "# Load data\n",
    "data = pd.read_excel('inclusive_features_usage.xlsx')\n",
    "data.head()"
   ]
  },
  {
   "cell_type": "code",
   "execution_count": 3,
   "metadata": {},
   "outputs": [
    {
     "data": {
      "text/plain": [
       "(10000, 8)"
      ]
     },
     "execution_count": 3,
     "metadata": {},
     "output_type": "execute_result"
    }
   ],
   "source": [
    "# Check the shape of the data\n",
    "data.shape"
   ]
  },
  {
   "cell_type": "code",
   "execution_count": 4,
   "metadata": {},
   "outputs": [
    {
     "name": "stdout",
     "output_type": "stream",
     "text": [
      "<class 'pandas.core.frame.DataFrame'>\n",
      "RangeIndex: 10000 entries, 0 to 9999\n",
      "Data columns (total 8 columns):\n",
      " #   Column                  Non-Null Count  Dtype  \n",
      "---  ------                  --------------  -----  \n",
      " 0   user_id                 10000 non-null  object \n",
      " 1   feature_used            10000 non-null  object \n",
      " 2   session_duration        10000 non-null  float64\n",
      " 3   engagement_score        10000 non-null  int64  \n",
      " 4   accessibility_settings  10000 non-null  int64  \n",
      " 5   age_group               10000 non-null  object \n",
      " 6   gender                  6003 non-null   object \n",
      " 7   additional_attributes   3997 non-null   object \n",
      "dtypes: float64(1), int64(2), object(5)\n",
      "memory usage: 625.1+ KB\n"
     ]
    }
   ],
   "source": [
    "# Check the properties of the dataset\n",
    "data.info()"
   ]
  },
  {
   "cell_type": "code",
   "execution_count": 5,
   "metadata": {},
   "outputs": [
    {
     "name": "stdout",
     "output_type": "stream",
     "text": [
      "Age groups: ['Teenager' 'Professional' 'Adult' 'Young Adult' 'Senior']\n",
      "Gender: [nan 'Non-Binary' 'Female' 'Male']\n",
      "Additional demographic attributes: ['LGBTQ+' nan 'Person of Color']\n"
     ]
    }
   ],
   "source": [
    "# Check for unique values in the Object columns\n",
    "print(f'Age groups: {data.age_group.unique()}')\n",
    "\n",
    "print(f'Gender: {data.gender.unique()}')\n",
    "\n",
    "print(f'Additional demographic attributes: {data.additional_attributes.unique()}')"
   ]
  },
  {
   "cell_type": "code",
   "execution_count": 6,
   "metadata": {},
   "outputs": [
    {
     "data": {
      "text/plain": [
       "user_id                      0\n",
       "feature_used                 0\n",
       "session_duration             0\n",
       "engagement_score             0\n",
       "accessibility_settings       0\n",
       "age_group                    0\n",
       "gender                    3997\n",
       "additional_attributes     6003\n",
       "dtype: int64"
      ]
     },
     "execution_count": 6,
     "metadata": {},
     "output_type": "execute_result"
    }
   ],
   "source": [
    "# Check for missing values\n",
    "data.isnull().sum()"
   ]
  },
  {
   "cell_type": "code",
   "execution_count": 7,
   "metadata": {},
   "outputs": [
    {
     "data": {
      "text/html": [
       "<div>\n",
       "<style scoped>\n",
       "    .dataframe tbody tr th:only-of-type {\n",
       "        vertical-align: middle;\n",
       "    }\n",
       "\n",
       "    .dataframe tbody tr th {\n",
       "        vertical-align: top;\n",
       "    }\n",
       "\n",
       "    .dataframe thead th {\n",
       "        text-align: right;\n",
       "    }\n",
       "</style>\n",
       "<table border=\"1\" class=\"dataframe\">\n",
       "  <thead>\n",
       "    <tr style=\"text-align: right;\">\n",
       "      <th></th>\n",
       "      <th>session_duration</th>\n",
       "      <th>engagement_score</th>\n",
       "      <th>accessibility_settings</th>\n",
       "    </tr>\n",
       "  </thead>\n",
       "  <tbody>\n",
       "    <tr>\n",
       "      <th>count</th>\n",
       "      <td>10000.000000</td>\n",
       "      <td>10000.00000</td>\n",
       "      <td>10000.000000</td>\n",
       "    </tr>\n",
       "    <tr>\n",
       "      <th>mean</th>\n",
       "      <td>62.443799</td>\n",
       "      <td>3.04360</td>\n",
       "      <td>2.489600</td>\n",
       "    </tr>\n",
       "    <tr>\n",
       "      <th>std</th>\n",
       "      <td>33.522672</td>\n",
       "      <td>1.41778</td>\n",
       "      <td>1.707332</td>\n",
       "    </tr>\n",
       "    <tr>\n",
       "      <th>min</th>\n",
       "      <td>5.010000</td>\n",
       "      <td>1.00000</td>\n",
       "      <td>0.000000</td>\n",
       "    </tr>\n",
       "    <tr>\n",
       "      <th>25%</th>\n",
       "      <td>33.070000</td>\n",
       "      <td>2.00000</td>\n",
       "      <td>1.000000</td>\n",
       "    </tr>\n",
       "    <tr>\n",
       "      <th>50%</th>\n",
       "      <td>63.175000</td>\n",
       "      <td>3.00000</td>\n",
       "      <td>2.000000</td>\n",
       "    </tr>\n",
       "    <tr>\n",
       "      <th>75%</th>\n",
       "      <td>91.600000</td>\n",
       "      <td>4.00000</td>\n",
       "      <td>4.000000</td>\n",
       "    </tr>\n",
       "    <tr>\n",
       "      <th>max</th>\n",
       "      <td>120.000000</td>\n",
       "      <td>5.00000</td>\n",
       "      <td>5.000000</td>\n",
       "    </tr>\n",
       "  </tbody>\n",
       "</table>\n",
       "</div>"
      ],
      "text/plain": [
       "       session_duration  engagement_score  accessibility_settings\n",
       "count      10000.000000       10000.00000            10000.000000\n",
       "mean          62.443799           3.04360                2.489600\n",
       "std           33.522672           1.41778                1.707332\n",
       "min            5.010000           1.00000                0.000000\n",
       "25%           33.070000           2.00000                1.000000\n",
       "50%           63.175000           3.00000                2.000000\n",
       "75%           91.600000           4.00000                4.000000\n",
       "max          120.000000           5.00000                5.000000"
      ]
     },
     "execution_count": 7,
     "metadata": {},
     "output_type": "execute_result"
    }
   ],
   "source": [
    "# Get the summary statistics of the numeric columns\n",
    "data.describe()"
   ]
  },
  {
   "cell_type": "markdown",
   "metadata": {},
   "source": [
    "Summary: The dataset has 10000 rows and 8 columns. 5 columns are object columns while 3 columns are integer columns. Only `gender` and `additional_attributes` columns have missing values. I have observed that where a value is missing in the `gender` column, there is a corresponding value in the `additional_attributes` column. The column `session_duration` has values spread apart."
   ]
  },
  {
   "cell_type": "markdown",
   "metadata": {},
   "source": [
    "### 2. Data Cleaning and Preparation"
   ]
  },
  {
   "cell_type": "markdown",
   "metadata": {},
   "source": [
    "##### Handle missing values in `gender` and `additional_attributes` columns\n",
    "I will fill the missing values based on the following assumption:\n",
    "- If `additional_attributes` has `LGBTQ+`, the `gender` is `Non-Binary`.\n",
    "- If `additional_attributes` is `Person of Color`, the `gender` is independent and I will assign the gender value `Unknown`.\n",
    "- Similarly, if `gender` is `Non-Binary` and `additional_attributes` is missing, assign `LGBTQ+`. Otherwise, fill the missing value with `Unknown`."
   ]
  },
  {
   "cell_type": "code",
   "execution_count": null,
   "metadata": {},
   "outputs": [],
   "source": [
    "# Handle missing values in Gender column\n",
    "data.loc[(data['gender'].isna()) & (data['additional_attributes'] == 'LGBTQ+'), 'gender'] = 'Non-Binary'\n",
    "data.fillna({'gender': 'Unknown'}, inplace=True)"
   ]
  },
  {
   "cell_type": "code",
   "execution_count": 10,
   "metadata": {},
   "outputs": [],
   "source": [
    "# Handle missing values in Additional Attributes column\n",
    "data.loc[(data['additional_attributes'].isna()) & (data['gender'] == 'Non-Binary'), 'additional_attributes'] = 'LGBTQ+'\n",
    "data.fillna({'additional_attributes': 'Unknown'}, inplace=True)"
   ]
  },
  {
   "cell_type": "markdown",
   "metadata": {},
   "source": [
    "##### Visualize `session_duration` and `engagement_score` to detect outliers"
   ]
  },
  {
   "cell_type": "code",
   "execution_count": 16,
   "metadata": {},
   "outputs": [
    {
     "data": {
      "image/png": "[encoded data removed]",
      "text/plain": [
       "<Figure size 1000x500 with 1 Axes>"
      ]
     },
     "metadata": {},
     "output_type": "display_data"
    },
    {
     "data": {
      "image/png": "[encoded data removed]",
      "text/plain": [
       "<Figure size 1000x500 with 1 Axes>"
      ]
     },
     "metadata": {},
     "output_type": "display_data"
    }
   ],
   "source": [
    "# Visualize session_duration\n",
    "plt.figure(figsize=(10, 5))\n",
    "sns.boxplot(x = data['session_duration'])\n",
    "plt.title('Box Plot for Session Duration')\n",
    "plt.show()\n",
    "\n",
    "# Visualize engagement_score\n",
    "plt.figure(figsize=(10, 5))\n",
    "sns.boxplot(x = data['engagement_score'])\n",
    "plt.title('Box Plot for Engagement Score')\n",
    "plt.show()\n"
   ]
  },
  {
   "cell_type": "markdown",
   "metadata": {},
   "source": [
    "From the boxplots, there are no identifiable outliers in `session_duration` and `engagement_score`."
   ]
  },
  {
   "cell_type": "markdown",
   "metadata": {},
   "source": [
    "##### High Accessibility User Classification"
   ]
  },
  {
   "cell_type": "code",
   "execution_count": 17,
   "metadata": {},
   "outputs": [
    {
     "data": {
      "text/html": [
       "<div>\n",
       "<style scoped>\n",
       "    .dataframe tbody tr th:only-of-type {\n",
       "        vertical-align: middle;\n",
       "    }\n",
       "\n",
       "    .dataframe tbody tr th {\n",
       "        vertical-align: top;\n",
       "    }\n",
       "\n",
       "    .dataframe thead th {\n",
       "        text-align: right;\n",
       "    }\n",
       "</style>\n",
       "<table border=\"1\" class=\"dataframe\">\n",
       "  <thead>\n",
       "    <tr style=\"text-align: right;\">\n",
       "      <th></th>\n",
       "      <th>user_id</th>\n",
       "      <th>feature_used</th>\n",
       "      <th>session_duration</th>\n",
       "      <th>engagement_score</th>\n",
       "      <th>accessibility_settings</th>\n",
       "      <th>age_group</th>\n",
       "      <th>gender</th>\n",
       "      <th>additional_attributes</th>\n",
       "      <th>high_accessibility_user</th>\n",
       "    </tr>\n",
       "  </thead>\n",
       "  <tbody>\n",
       "    <tr>\n",
       "      <th>0</th>\n",
       "      <td>user_4737</td>\n",
       "      <td>Multilingual</td>\n",
       "      <td>60.77</td>\n",
       "      <td>4</td>\n",
       "      <td>4</td>\n",
       "      <td>Teenager</td>\n",
       "      <td>Non-Binary</td>\n",
       "      <td>LGBTQ+</td>\n",
       "      <td>1</td>\n",
       "    </tr>\n",
       "    <tr>\n",
       "      <th>1</th>\n",
       "      <td>user_1492</td>\n",
       "      <td>Text-to-Speech</td>\n",
       "      <td>20.20</td>\n",
       "      <td>5</td>\n",
       "      <td>4</td>\n",
       "      <td>Professional</td>\n",
       "      <td>Non-Binary</td>\n",
       "      <td>LGBTQ+</td>\n",
       "      <td>1</td>\n",
       "    </tr>\n",
       "    <tr>\n",
       "      <th>2</th>\n",
       "      <td>user_5936</td>\n",
       "      <td>Colorblind Mode</td>\n",
       "      <td>93.78</td>\n",
       "      <td>2</td>\n",
       "      <td>2</td>\n",
       "      <td>Adult</td>\n",
       "      <td>Female</td>\n",
       "      <td>Unknown</td>\n",
       "      <td>0</td>\n",
       "    </tr>\n",
       "    <tr>\n",
       "      <th>3</th>\n",
       "      <td>user_5519</td>\n",
       "      <td>Colorblind Mode</td>\n",
       "      <td>26.36</td>\n",
       "      <td>3</td>\n",
       "      <td>1</td>\n",
       "      <td>Adult</td>\n",
       "      <td>Non-Binary</td>\n",
       "      <td>LGBTQ+</td>\n",
       "      <td>0</td>\n",
       "    </tr>\n",
       "    <tr>\n",
       "      <th>4</th>\n",
       "      <td>user_1853</td>\n",
       "      <td>High Contrast Mode</td>\n",
       "      <td>91.67</td>\n",
       "      <td>5</td>\n",
       "      <td>1</td>\n",
       "      <td>Young Adult</td>\n",
       "      <td>Male</td>\n",
       "      <td>Unknown</td>\n",
       "      <td>0</td>\n",
       "    </tr>\n",
       "  </tbody>\n",
       "</table>\n",
       "</div>"
      ],
      "text/plain": [
       "     user_id        feature_used  session_duration  engagement_score  \\\n",
       "0  user_4737        Multilingual             60.77                 4   \n",
       "1  user_1492      Text-to-Speech             20.20                 5   \n",
       "2  user_5936     Colorblind Mode             93.78                 2   \n",
       "3  user_5519     Colorblind Mode             26.36                 3   \n",
       "4  user_1853  High Contrast Mode             91.67                 5   \n",
       "\n",
       "   accessibility_settings     age_group      gender additional_attributes  \\\n",
       "0                       4      Teenager  Non-Binary                LGBTQ+   \n",
       "1                       4  Professional  Non-Binary                LGBTQ+   \n",
       "2                       2         Adult      Female               Unknown   \n",
       "3                       1         Adult  Non-Binary                LGBTQ+   \n",
       "4                       1   Young Adult        Male               Unknown   \n",
       "\n",
       "   high_accessibility_user  \n",
       "0                        1  \n",
       "1                        1  \n",
       "2                        0  \n",
       "3                        0  \n",
       "4                        0  "
      ]
     },
     "execution_count": 17,
     "metadata": {},
     "output_type": "execute_result"
    }
   ],
   "source": [
    "# Add high_accessibility_user column : Binary column (1 for True, 0 for False)\n",
    "data['high_accessibility_user'] = (data['accessibility_settings'] >= 3).astype(int)\n",
    "data.head()"
   ]
  },
  {
   "cell_type": "markdown",
   "metadata": {},
   "source": [
    "I chose binary labeling (1/0) for the `high_accessibility_user` because it simplifies downstream predictive modeling tasks, where I will build a logistic regression model, which can naturally handle binary variables. Moreover, users with multiple accessibility settings (≥ 3) likely have significant needs for inclusive features. By creating these labels, the model will better identify factors influencing this group's engagement and feature adoption, aiding quality recommendations."
   ]
  },
  {
   "cell_type": "markdown",
   "metadata": {},
   "source": [
    "##### Intersectionality Analysis"
   ]
  },
  {
   "cell_type": "code",
   "execution_count": 18,
   "metadata": {},
   "outputs": [
    {
     "data": {
      "text/html": [
       "<div>\n",
       "<style scoped>\n",
       "    .dataframe tbody tr th:only-of-type {\n",
       "        vertical-align: middle;\n",
       "    }\n",
       "\n",
       "    .dataframe tbody tr th {\n",
       "        vertical-align: top;\n",
       "    }\n",
       "\n",
       "    .dataframe thead th {\n",
       "        text-align: right;\n",
       "    }\n",
       "</style>\n",
       "<table border=\"1\" class=\"dataframe\">\n",
       "  <thead>\n",
       "    <tr style=\"text-align: right;\">\n",
       "      <th></th>\n",
       "      <th>user_id</th>\n",
       "      <th>feature_used</th>\n",
       "      <th>session_duration</th>\n",
       "      <th>engagement_score</th>\n",
       "      <th>accessibility_settings</th>\n",
       "      <th>age_group</th>\n",
       "      <th>gender</th>\n",
       "      <th>additional_attributes</th>\n",
       "      <th>high_accessibility_user</th>\n",
       "      <th>intersectionality</th>\n",
       "    </tr>\n",
       "  </thead>\n",
       "  <tbody>\n",
       "    <tr>\n",
       "      <th>0</th>\n",
       "      <td>user_4737</td>\n",
       "      <td>Multilingual</td>\n",
       "      <td>60.77</td>\n",
       "      <td>4</td>\n",
       "      <td>4</td>\n",
       "      <td>Teenager</td>\n",
       "      <td>Non-Binary</td>\n",
       "      <td>LGBTQ+</td>\n",
       "      <td>1</td>\n",
       "      <td>Teenager - Non-Binary - LGBTQ+</td>\n",
       "    </tr>\n",
       "    <tr>\n",
       "      <th>1</th>\n",
       "      <td>user_1492</td>\n",
       "      <td>Text-to-Speech</td>\n",
       "      <td>20.20</td>\n",
       "      <td>5</td>\n",
       "      <td>4</td>\n",
       "      <td>Professional</td>\n",
       "      <td>Non-Binary</td>\n",
       "      <td>LGBTQ+</td>\n",
       "      <td>1</td>\n",
       "      <td>Professional - Non-Binary - LGBTQ+</td>\n",
       "    </tr>\n",
       "    <tr>\n",
       "      <th>2</th>\n",
       "      <td>user_5936</td>\n",
       "      <td>Colorblind Mode</td>\n",
       "      <td>93.78</td>\n",
       "      <td>2</td>\n",
       "      <td>2</td>\n",
       "      <td>Adult</td>\n",
       "      <td>Female</td>\n",
       "      <td>Unknown</td>\n",
       "      <td>0</td>\n",
       "      <td>Adult - Female - Unknown</td>\n",
       "    </tr>\n",
       "    <tr>\n",
       "      <th>3</th>\n",
       "      <td>user_5519</td>\n",
       "      <td>Colorblind Mode</td>\n",
       "      <td>26.36</td>\n",
       "      <td>3</td>\n",
       "      <td>1</td>\n",
       "      <td>Adult</td>\n",
       "      <td>Non-Binary</td>\n",
       "      <td>LGBTQ+</td>\n",
       "      <td>0</td>\n",
       "      <td>Adult - Non-Binary - LGBTQ+</td>\n",
       "    </tr>\n",
       "    <tr>\n",
       "      <th>4</th>\n",
       "      <td>user_1853</td>\n",
       "      <td>High Contrast Mode</td>\n",
       "      <td>91.67</td>\n",
       "      <td>5</td>\n",
       "      <td>1</td>\n",
       "      <td>Young Adult</td>\n",
       "      <td>Male</td>\n",
       "      <td>Unknown</td>\n",
       "      <td>0</td>\n",
       "      <td>Young Adult - Male - Unknown</td>\n",
       "    </tr>\n",
       "  </tbody>\n",
       "</table>\n",
       "</div>"
      ],
      "text/plain": [
       "     user_id        feature_used  session_duration  engagement_score  \\\n",
       "0  user_4737        Multilingual             60.77                 4   \n",
       "1  user_1492      Text-to-Speech             20.20                 5   \n",
       "2  user_5936     Colorblind Mode             93.78                 2   \n",
       "3  user_5519     Colorblind Mode             26.36                 3   \n",
       "4  user_1853  High Contrast Mode             91.67                 5   \n",
       "\n",
       "   accessibility_settings     age_group      gender additional_attributes  \\\n",
       "0                       4      Teenager  Non-Binary                LGBTQ+   \n",
       "1                       4  Professional  Non-Binary                LGBTQ+   \n",
       "2                       2         Adult      Female               Unknown   \n",
       "3                       1         Adult  Non-Binary                LGBTQ+   \n",
       "4                       1   Young Adult        Male               Unknown   \n",
       "\n",
       "   high_accessibility_user                   intersectionality  \n",
       "0                        1      Teenager - Non-Binary - LGBTQ+  \n",
       "1                        1  Professional - Non-Binary - LGBTQ+  \n",
       "2                        0            Adult - Female - Unknown  \n",
       "3                        0         Adult - Non-Binary - LGBTQ+  \n",
       "4                        0        Young Adult - Male - Unknown  "
      ]
     },
     "execution_count": 18,
     "metadata": {},
     "output_type": "execute_result"
    }
   ],
   "source": [
    "data['intersectionality'] = data['age_group'] + \" - \" + data['gender'] + \" - \" + data['additional_attributes']\n",
    "data.head()"
   ]
  },
  {
   "cell_type": "markdown",
   "metadata": {},
   "source": [
    "Summary: I imputed the missing values in the `gender` column by assigning `Non-Binary` if `additional_attributes` was `LGBTQ+`. Otherwise, filled the missing value with `Unknown`. Similarly, if `gender` was `Non-Binary` and `additional_attributes` was missing, I assigned `LGBTQ+`. Otherwise, fill the missing value with `Unknown`. There were no outliers in the data. I created the `high_accessibility_user` column with binary labels (1/0). Additionally, I created the column `intersectionality`, combines `age_group`, `gender`, and `additional_attributes`, to facilitate intersectional analysis."
   ]
  }
 ],
 "metadata": {
  "kernelspec": {
   "display_name": "Python 3",
   "language": "python",
   "name": "python3"
  },
  "language_info": {
   "codemirror_mode": {
    "name": "ipython",
    "version": 3
   },
   "file_extension": ".py",
   "mimetype": "text/x-python",
   "name": "python",
   "nbconvert_exporter": "python",
   "pygments_lexer": "ipython3",
   "version": "3.12.6"
  }
 },
 "nbformat": 4,
 "nbformat_minor": 2
}
